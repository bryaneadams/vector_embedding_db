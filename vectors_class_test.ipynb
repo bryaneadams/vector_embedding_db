{
 "cells": [
  {
   "cell_type": "code",
   "execution_count": 1,
   "metadata": {},
   "outputs": [],
   "source": [
    "import json\n",
    "import pandas as pd\n",
    "import google.generativeai as palm"
   ]
  },
  {
   "cell_type": "code",
   "execution_count": 2,
   "metadata": {},
   "outputs": [],
   "source": [
    "from utils import VectorEmbeddings"
   ]
  },
  {
   "cell_type": "code",
   "execution_count": 3,
   "metadata": {},
   "outputs": [],
   "source": [
    "with open('../.api_key', 'r') as file:\n",
    "    api_key = file.readline()"
   ]
  },
  {
   "cell_type": "code",
   "execution_count": 4,
   "metadata": {},
   "outputs": [],
   "source": [
    "vector_embeddings = VectorEmbeddings(api_key=api_key)"
   ]
  },
  {
   "cell_type": "code",
   "execution_count": 5,
   "metadata": {},
   "outputs": [],
   "source": [
    "DOCUMENT1 = \"Operating the Climate Control System  Your Googlecar has a climate control system that allows you to adjust the temperature and airflow in the car. To operate the climate control system, use the buttons and knobs located on the center console. Temperature: The temperature knob controls the temperature inside the car. Turn the knob clockwise to increase the temperature or counterclockwise to decrease the temperature. Airflow: The airflow knob controls the amount of airflow inside the car. Turn the knob clockwise to increase the airflow or counterclockwise to decrease the airflow. Fan speed: The fan speed knob controls the speed of the fan. Turn the knob clockwise to increase the fan speed or counterclockwise to decrease the fan speed. Mode: The mode button allows you to select the desired mode. The available modes are: Auto: The car will automatically adjust the temperature and airflow to maintain a comfortable level. Cool: The car will blow cool air into the car. Heat: The car will blow warm air into the car. Defrost: The car will blow warm air onto the windshield to defrost it.\"\n",
    "DOCUMENT2 = \"Your Googlecar has a large touchscreen display that provides access to a variety of features, including navigation, entertainment, and climate control. To use the touchscreen display, simply touch the desired icon.  For example, you can touch the \\\"Navigation\\\" icon to get directions to your destination or touch the \\\"Music\\\" icon to play your favorite songs.\"\n",
    "DOCUMENT3 = \"Shifting Gears  Your Googlecar has an automatic transmission. To shift gears, simply move the shift lever to the desired position.  Park: This position is used when you are parked. The wheels are locked and the car cannot move. Reverse: This position is used to back up. Neutral: This position is used when you are stopped at a light or in traffic. The car is not in gear and will not move unless you press the gas pedal. Drive: This position is used to drive forward. Low: This position is used for driving in snow or other slippery conditions.\"\n",
    "\n",
    "documents = [DOCUMENT1, DOCUMENT2, DOCUMENT3]"
   ]
  },
  {
   "cell_type": "code",
   "execution_count": 6,
   "metadata": {},
   "outputs": [],
   "source": [
    "documents_dict = {}\n",
    "document_names = ['document_1','document_2','document_3']\n",
    "for document in zip(documents,document_names):\n",
    "    chunks = vector_embeddings.split_text([document[0]])\n",
    "    chunk_list = []\n",
    "    for c in chunks:\n",
    "        chunk_list.append(c.page_content)\n",
    "    documents_dict[document[1]] = chunk_list"
   ]
  },
  {
   "cell_type": "code",
   "execution_count": 7,
   "metadata": {},
   "outputs": [],
   "source": [
    "vector_data = []\n",
    "for document, texts in documents_dict.items():\n",
    "    for index, text in enumerate(texts):\n",
    "        vector_data.append([document, index, text])\n",
    "\n",
    "vector_df = pd.DataFrame(vector_data, columns=['document', 'index', 'text'])"
   ]
  },
  {
   "cell_type": "code",
   "execution_count": 8,
   "metadata": {},
   "outputs": [
    {
     "data": {
      "text/html": [
       "<div>\n",
       "<style scoped>\n",
       "    .dataframe tbody tr th:only-of-type {\n",
       "        vertical-align: middle;\n",
       "    }\n",
       "\n",
       "    .dataframe tbody tr th {\n",
       "        vertical-align: top;\n",
       "    }\n",
       "\n",
       "    .dataframe thead th {\n",
       "        text-align: right;\n",
       "    }\n",
       "</style>\n",
       "<table border=\"1\" class=\"dataframe\">\n",
       "  <thead>\n",
       "    <tr style=\"text-align: right;\">\n",
       "      <th></th>\n",
       "      <th>document</th>\n",
       "      <th>index</th>\n",
       "      <th>text</th>\n",
       "      <th>embeddings</th>\n",
       "    </tr>\n",
       "  </thead>\n",
       "  <tbody>\n",
       "    <tr>\n",
       "      <th>0</th>\n",
       "      <td>document_1</td>\n",
       "      <td>0</td>\n",
       "      <td>Operating the Climate Control System  Your Goo...</td>\n",
       "      <td>[-0.004682993, 0.0658743, 0.034553137, 0.04838...</td>\n",
       "    </tr>\n",
       "    <tr>\n",
       "      <th>1</th>\n",
       "      <td>document_1</td>\n",
       "      <td>1</td>\n",
       "      <td>that allows you to adjust the temperature and ...</td>\n",
       "      <td>[0.0059845652, 0.066699535, 0.0024247267, 0.05...</td>\n",
       "    </tr>\n",
       "    <tr>\n",
       "      <th>2</th>\n",
       "      <td>document_1</td>\n",
       "      <td>2</td>\n",
       "      <td>the climate control system, use the buttons an...</td>\n",
       "      <td>[0.020519787, 0.051637597, -0.015418134, 0.062...</td>\n",
       "    </tr>\n",
       "    <tr>\n",
       "      <th>3</th>\n",
       "      <td>document_1</td>\n",
       "      <td>3</td>\n",
       "      <td>Temperature: The temperature knob controls the...</td>\n",
       "      <td>[0.02814844, 0.04172512, 0.0101980055, 0.04945...</td>\n",
       "    </tr>\n",
       "    <tr>\n",
       "      <th>4</th>\n",
       "      <td>document_1</td>\n",
       "      <td>4</td>\n",
       "      <td>the knob clockwise to increase the temperature...</td>\n",
       "      <td>[0.008129629, 0.027632985, 0.0049550766, 0.039...</td>\n",
       "    </tr>\n",
       "  </tbody>\n",
       "</table>\n",
       "</div>"
      ],
      "text/plain": [
       "     document  index                                               text  \\\n",
       "0  document_1      0  Operating the Climate Control System  Your Goo...   \n",
       "1  document_1      1  that allows you to adjust the temperature and ...   \n",
       "2  document_1      2  the climate control system, use the buttons an...   \n",
       "3  document_1      3  Temperature: The temperature knob controls the...   \n",
       "4  document_1      4  the knob clockwise to increase the temperature...   \n",
       "\n",
       "                                          embeddings  \n",
       "0  [-0.004682993, 0.0658743, 0.034553137, 0.04838...  \n",
       "1  [0.0059845652, 0.066699535, 0.0024247267, 0.05...  \n",
       "2  [0.020519787, 0.051637597, -0.015418134, 0.062...  \n",
       "3  [0.02814844, 0.04172512, 0.0101980055, 0.04945...  \n",
       "4  [0.008129629, 0.027632985, 0.0049550766, 0.039...  "
      ]
     },
     "execution_count": 8,
     "metadata": {},
     "output_type": "execute_result"
    }
   ],
   "source": [
    "vector_df['embeddings'] = vector_df['text'].apply(vector_embeddings.embed_fn)\n",
    "vector_df.head()"
   ]
  },
  {
   "cell_type": "code",
   "execution_count": 9,
   "metadata": {},
   "outputs": [
    {
     "data": {
      "text/html": [
       "<div>\n",
       "<style scoped>\n",
       "    .dataframe tbody tr th:only-of-type {\n",
       "        vertical-align: middle;\n",
       "    }\n",
       "\n",
       "    .dataframe tbody tr th {\n",
       "        vertical-align: top;\n",
       "    }\n",
       "\n",
       "    .dataframe thead th {\n",
       "        text-align: right;\n",
       "    }\n",
       "</style>\n",
       "<table border=\"1\" class=\"dataframe\">\n",
       "  <thead>\n",
       "    <tr style=\"text-align: right;\">\n",
       "      <th></th>\n",
       "      <th>score</th>\n",
       "      <th>text</th>\n",
       "    </tr>\n",
       "  </thead>\n",
       "  <tbody>\n",
       "    <tr>\n",
       "      <th>0</th>\n",
       "      <td>0.729427</td>\n",
       "      <td>move the shift lever to the desired position. ...</td>\n",
       "    </tr>\n",
       "    <tr>\n",
       "      <th>1</th>\n",
       "      <td>0.717824</td>\n",
       "      <td>Shifting Gears  Your Googlecar has an automati...</td>\n",
       "    </tr>\n",
       "    <tr>\n",
       "      <th>2</th>\n",
       "      <td>0.698512</td>\n",
       "      <td>position is used to back up. Neutral: This pos...</td>\n",
       "    </tr>\n",
       "    <tr>\n",
       "      <th>3</th>\n",
       "      <td>0.665312</td>\n",
       "      <td>the gas pedal. Drive: This position is used to...</td>\n",
       "    </tr>\n",
       "    <tr>\n",
       "      <th>4</th>\n",
       "      <td>0.638044</td>\n",
       "      <td>desired mode. The available modes are: Auto: T...</td>\n",
       "    </tr>\n",
       "  </tbody>\n",
       "</table>\n",
       "</div>"
      ],
      "text/plain": [
       "      score                                               text\n",
       "0  0.729427  move the shift lever to the desired position. ...\n",
       "1  0.717824  Shifting Gears  Your Googlecar has an automati...\n",
       "2  0.698512  position is used to back up. Neutral: This pos...\n",
       "3  0.665312  the gas pedal. Drive: This position is used to...\n",
       "4  0.638044  desired mode. The available modes are: Auto: T..."
      ]
     },
     "execution_count": 9,
     "metadata": {},
     "output_type": "execute_result"
    }
   ],
   "source": [
    "query = \"How do you shift gears and what positions are there?\"\n",
    "passage = vector_embeddings.find_top_n(query=query, df = vector_df,text_col='text',n=5)\n",
    "passage"
   ]
  },
  {
   "cell_type": "code",
   "execution_count": 10,
   "metadata": {},
   "outputs": [
    {
     "data": {
      "text/plain": [
       "\"\\n'You are a helpful and informative bot that answers questions using text from the reference passage included below. Be sure to respond in a complete sentence, being comprehensive, including all relevant background information. However, you are talking to a non-technical audience, so be sure to break down complicated concepts and strike a friendly and converstional tone.     If the passage is irrelevant to the answer, you may ignore it. Also, please keep it brief.'\\nQUESTION: 'How do you shift gears and what positions are there?'\\nPASSAGE: 'move the shift lever to the desired position.  Park: This position is used when you are parked. The Shifting Gears  Your Googlecar has an automatic transmission. To shift gears, simply move the shift position is used to back up. Neutral: This position is used when you are stopped at a light or in the gas pedal. Drive: This position is used to drive forward. Low: This position is used for desired mode. The available modes are: Auto: The car will automatically adjust the temperature and'\\n\\n    ANSWER:\\n\""
      ]
     },
     "execution_count": 10,
     "metadata": {},
     "output_type": "execute_result"
    }
   ],
   "source": [
    "leading_text = 'You are a helpful and informative bot that answers questions using text from the reference passage included below. Be sure to respond in a complete sentence, being comprehensive, including all relevant background information. However, you are talking to a non-technical audience, so be sure to break down complicated concepts and strike a friendly and converstional tone. \\\n",
    "    If the passage is irrelevant to the answer, you may ignore it. Also, please keep it brief.'\n",
    "prompt = vector_embeddings.make_prompt(leading_text, query, \" \".join([i[1]['text'] for i in passage.iterrows()]))\n",
    "prompt"
   ]
  },
  {
   "cell_type": "code",
   "execution_count": 11,
   "metadata": {},
   "outputs": [
    {
     "data": {
      "text/plain": [
       "Model(name='models/text-bison-001', base_model_id='', version='001', display_name='Text Bison', description='Model targeted for text generation.', input_token_limit=8196, output_token_limit=1024, supported_generation_methods=['generateText', 'countTextTokens', 'createTunedTextModel'], temperature=0.7, top_p=0.95, top_k=40)"
      ]
     },
     "execution_count": 11,
     "metadata": {},
     "output_type": "execute_result"
    }
   ],
   "source": [
    "text_models = [m for m in palm.list_models() if 'generateText' in m.supported_generation_methods]\n",
    "text_model = text_models[0]\n",
    "text_model"
   ]
  },
  {
   "cell_type": "code",
   "execution_count": 12,
   "metadata": {},
   "outputs": [],
   "source": [
    "temperature = 0.5\n",
    "answer = vector_embeddings.generate_text(prompt=prompt,\n",
    "                            text_model=text_model,\n",
    "                            candidate_count=3,\n",
    "                            temperature=temperature,\n",
    "                            max_output_tokens=1000)"
   ]
  },
  {
   "cell_type": "code",
   "execution_count": 13,
   "metadata": {},
   "outputs": [
    {
     "name": "stdout",
     "output_type": "stream",
     "text": [
      "Candidate 0: To shift gears, simply move the shift lever to the desired position. Park, Reverse, Neutral, Drive, and Low.\n",
      "\n",
      "Candidate 1: To shift gears, simply move the shift lever to the desired position.  Park: This position is used when you are parked. Reverse: This position is used to back up. Neutral: This position is used when you are stopped at a light or in the gas pedal. Drive: This position is used to drive forward. Low: This position is used for low speeds.\n",
      "\n",
      "Candidate 2: To shift gears, simply move the shift lever to the desired position. There are 5 positions: Park, Reverse, Neutral, Drive, and Low.\n",
      "\n"
     ]
    }
   ],
   "source": [
    "for i, candidate in enumerate(answer.candidates):\n",
    "  print(f\"Candidate {i}: {candidate['output']}\\n\")"
   ]
  },
  {
   "cell_type": "code",
   "execution_count": null,
   "metadata": {},
   "outputs": [],
   "source": []
  }
 ],
 "metadata": {
  "kernelspec": {
   "display_name": ".venv",
   "language": "python",
   "name": "python3"
  },
  "language_info": {
   "codemirror_mode": {
    "name": "ipython",
    "version": 3
   },
   "file_extension": ".py",
   "mimetype": "text/x-python",
   "name": "python",
   "nbconvert_exporter": "python",
   "pygments_lexer": "ipython3",
   "version": "3.11.4"
  }
 },
 "nbformat": 4,
 "nbformat_minor": 2
}
